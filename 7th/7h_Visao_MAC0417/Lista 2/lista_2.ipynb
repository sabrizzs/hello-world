{
  "cells": [
    {
      "cell_type": "markdown",
      "metadata": {
        "id": "e6JkFuuqzYyq"
      },
      "source": [
        "Sabrina Araújo nUSP 12566182\n",
        "\n",
        "MAC0417 - Lista 2"
      ]
    },
    {
      "cell_type": "markdown",
      "metadata": {},
      "source": [
        "**4. (Opcional) Ao final da lista, temos as imagens da questão anterior no seu tamanho original. Use as imagens e faça o procedimento sugerido na resposta da questão 3. E mostre o resultado das imagens.**"
      ]
    }
  ],
  "metadata": {
    "colab": {
      "provenance": []
    },
    "kernelspec": {
      "display_name": "Python 3",
      "name": "python3"
    },
    "language_info": {
      "codemirror_mode": {
        "name": "ipython",
        "version": 3
      },
      "file_extension": ".py",
      "mimetype": "text/x-python",
      "name": "python",
      "nbconvert_exporter": "python",
      "pygments_lexer": "ipython3",
      "version": "3.10.11"
    }
  },
  "nbformat": 4,
  "nbformat_minor": 0
}
