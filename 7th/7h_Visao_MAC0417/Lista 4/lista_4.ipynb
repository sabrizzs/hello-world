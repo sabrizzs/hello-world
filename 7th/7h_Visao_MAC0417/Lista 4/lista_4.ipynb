{
  "cells": [
    {
      "cell_type": "markdown",
      "metadata": {
        "id": "e6JkFuuqzYyq"
      },
      "source": [
        "Sabrina Araújo nUSP 12566182\n",
        "\n",
        "MAC0417 - Lista 4"
      ]
    },
    {
      "cell_type": "markdown",
      "metadata": {},
      "source": [
        "**1. Explique a intuição por trás do Teorema da Convolução. Por que o produto das transformadas de Fourier corresponde à convolução no domínio do tempo (ou espacial)?**\n",
        "\n",
        "A intuição por trás do Teorema da Convolução tem relação entre o domínio espacial e o domínio da frequência. A convolução no domínio espacial combina duas funções de forma complexa, envolve média ponderada, inversão e translação das funções. Quando aplicamos a Transformada de Fourier a uma função, essa função pode ser vista como uma soma (ou integral) de várias senoidais. \n",
        "\n",
        "A Transformada de Fourier converte a convolução em uma multiplicação de funções. Cada senoide decomposta possui uma frequência e uma amplitude. Ao convoluir f e g, as amplitudes de cada frequência são multiplicadas, pois a convolução combina todas as frequências de f com todas as frequências de g. Assim, a Transformada de Fourier transforma a convolução no domínio do tempo em uma multiplicação simples no domínio da frequência."
      ]
    },
    {
      "cell_type": "markdown",
      "metadata": {},
      "source": [
        "**2. Um determinado sinal de áudio possui frequências entre 20 Hz e 9 KHz.**\n",
        "\n",
        "**a. Qual a frequência de amostragem mínima necessária para sua digitalização sem perda de informações?** \n",
        "Para digitalizar o sinal de áudio sem perder informações, deve-se seguir o Teorema da Amostragem de Nyquist, que diz que a frequência da amostragem deve ser no mínimo duas vezes a maior frequência que o sinal possui. \n",
        "\n",
        "O sinal de áudio apresenta frequências entre 20Hz e 9KHz, então a maior frequência é 9KHz. Portanto, a frequência mínima de amostragem necessária é:\n",
        "\n",
        "fs >= 2 x 9KHz = 18KHz.\n",
        "\n",
        "**b. Explique as consequências da subamostragem em um sinal de imagem.**\n",
        "\n",
        "A subamostragem é o processo de amostrar um sinal a uma frequência menor do que a frequência de amostragem mínima ( frequência de Nyquist). Quando isso ocorre, algumas das consequências podem ser:\n",
        "\n",
        "- Aliasing: o mapeamento errado de altas frequências para baixas frequências pode resultar no aliasing, que representa detalhes finos de maneira errada.\n",
        "\n",
        "- Perda de detalhes: alguns detalhes finos não são capturados se a frequência de amostragem for muito baixa.\n"
      ]
    },
    {
      "cell_type": "markdown",
      "metadata": {},
      "source": [
        "**3. Por que multiplicar f(x) ou f(x,y), por (-1)X ou (-1)(X+Y) antes da transformada discreta de Fourier em 1 ou 2 dimensões, respectivamente, centraliza o espectro? Qual o raciocínio matemático por trás disso?**\n",
        "\n",
        "Multiplicar f(x) ou f(x,y) por (−1)X ou (−1)(X+Y) antes da Transformada Discreta de Fourier em 1 ou 2 dimensões centraliza o espectro porque isso corresponde a um deslocamento de N/2 no domínio do tempo (ou espacial), o que no domínio da frequência corresponde a uma mudança de fase que centraliza as componentes de baixa frequência no meio do espectro."
      ]
    }
  ],
  "metadata": {
    "colab": {
      "provenance": []
    },
    "kernelspec": {
      "display_name": "Python 3",
      "name": "python3"
    },
    "language_info": {
      "codemirror_mode": {
        "name": "ipython",
        "version": 3
      },
      "file_extension": ".py",
      "mimetype": "text/x-python",
      "name": "python",
      "nbconvert_exporter": "python",
      "pygments_lexer": "ipython3",
      "version": "3.10.11"
    }
  },
  "nbformat": 4,
  "nbformat_minor": 0
}
