{
  "cells": [
    {
      "cell_type": "markdown",
      "source": [
        "<font size=\"5\"> <a href=\"https://uspdigital.usp.br/jupiterweb/obterDisciplina?sgldis=MAC0209\"> MAC0209 - Modelagem e Simulação</a> </font>\n",
        "\n",
        "Roberto M. Cesar Jr. (IME-USP)\n",
        "\n",
        "Roberto Hirata Jr. (IME-USP)\n",
        "\n",
        "Artur André A.M. Oliveira (IME-USP)\n",
        "\n",
        "***\n",
        "<font size=\"5\"> Análise de dados de mobilidade usando dados do Kartaview: Parte 1 </font>\n",
        "***"
      ],
      "metadata": {
        "id": "ciiI5V05lU7P"
      },
      "id": "ciiI5V05lU7P"
    },
    {
      "cell_type": "markdown",
      "source": [
        "# Setup e Lib"
      ],
      "metadata": {
        "id": "55pdcv3llqx6"
      },
      "id": "55pdcv3llqx6"
    },
    {
      "cell_type": "code",
      "source": [
        "!python -m pip install pyproj\n",
        "\n",
        "from google.colab import drive\n",
        "drive.mount('/content/drive')\n",
        "\n",
        "# edite seu path abaixo:\n",
        "\n",
        "workDir = '/content/drive/MyDrive/doc/Courses/Modelagem/programas/jupyter/2022/kartaview/'\n"
      ],
      "metadata": {
        "id": "Pb1f67Ea3yqW"
      },
      "id": "Pb1f67Ea3yqW",
      "execution_count": null,
      "outputs": []
    },
    {
      "cell_type": "code",
      "execution_count": null,
      "metadata": {
        "id": "28d49cb5"
      },
      "outputs": [],
      "source": [
        "import matplotlib.pyplot as plt\n",
        "\n",
        "from datetime import datetime\n",
        "import json\n",
        "\n",
        "import numpy as np\n",
        "import matplotlib.pyplot as plt\n",
        "\n",
        "from pyproj import Proj, transform\n",
        "\n",
        "import argparse\n",
        "import re\n"
      ],
      "id": "28d49cb5"
    },
    {
      "cell_type": "code",
      "source": [
        "# arquivos uteis usados no JN abaixo\n",
        "\n",
        "arquivoBase = \"sample1.json\"\n",
        "arquivoBase = \"sample3.json\"\n",
        "arquivoBase = \"kartaview-pracaPanamericana.json\"\n",
        "\n",
        "arquivo_json = workDir + arquivoBase\n",
        "\n",
        "jsonfileName = arquivoBase\n",
        "jsonfile = workDir + jsonfileName\n",
        "extracted_filename = workDir + \"extracted_\" + jsonfileName\n",
        "cleaned_filename = workDir + \"cleaned_\" + jsonfileName\n",
        "\n",
        "arquivo_pontos = cleaned_filename\n"
      ],
      "metadata": {
        "id": "v7x3AmvKxqgI"
      },
      "id": "v7x3AmvKxqgI",
      "execution_count": null,
      "outputs": []
    },
    {
      "cell_type": "markdown",
      "source": [
        "# O formato JSON"
      ],
      "metadata": {
        "id": "8xS6uPPlUQZy"
      },
      "id": "8xS6uPPlUQZy"
    },
    {
      "cell_type": "markdown",
      "metadata": {
        "id": "dbf7308b"
      },
      "source": [
        "\n",
        "Referência: [json.org](https://www.json.org/json-en.html)\n",
        "\n",
        "JSON é uma notação usada para criar mensagens de texto estruturadas. A ideia/motivação principal é que sejam simples de serem lidas por seres humanos e ao mesmo tempo fáceis de serem geradas/lidas por um programa (parser).\n",
        "\n",
        "Um mensagem no formato JSON conta com duas estruturas básicas: (1) uma coleção de pares chave/valor delimitados por chaves '{}' (similar à dicionários em python); e (2) uma sequência de elementos, que são delimitados por colchetes '[]' (similar à listas em python).\n",
        "\n",
        "Uma coleção de pares chave/valor é chamada de objeto, a chave em cada par chave/valor deve ser uma string e um objeto não pode ter duas chaves iguais.\n",
        "\n",
        "Uma sequência não possui chaves e seus elementos podem ser mistos (por exemplo: outras sequências, objetos e elementos).\n",
        "\n",
        "Um elemento pode ser ou uma string delimitada por aspas duplas \"exemplo de string\" ou um número.\n",
        "\n",
        "Todos os exemplos a seguir são mensagens válidas de acordo com o formato JSON:\n",
        "\n",
        "1. \"\"\n",
        "2. \"JSON válido\"\n",
        "3. []\n",
        "4. [\"A sequancia anterior está vazia\", \"Já esta aqui tem duas strings e um número\", 7]\n",
        "5. {\"chave\": \"valor da chave para este objeto\"}\n",
        "6. {}\n",
        "7. \"A linha anterior tem um objeto vazio\"\n",
        "\n",
        "Apesar da notação admitir mensagens com apenas uma string, números, ou sequência, muitas vezes aplicações que dão suporte ao formato JSON não admitem mensagens que não contenham um objeto principal, isso é, todos os elementos da mensagem são encapsulados num objeto raiz, por exemplo:\n",
        "\n",
        "{\n",
        "  \"c1\": {\"chave nutela\": \"objeto interno\", \"id\" : 7},\n",
        "  \"outra chave\": 2,\n",
        "  \"alguma sequencia importante\": [2,3,5,7,11]\n",
        "}\n",
        "\n",
        "Note que além de termos um objeto principal na mensagem anterior (delimitado pelas chaves na primeira e ultima linha) temos outro objeto no primeiro par chave/valor (com a chave \"c1\"). Cada par chave/valor num objeto deve ser separado por vírgulas de outros pares no mesmo objeto.\n",
        "\n",
        "Existem diversos [editores online de JSON](https://jsoneditoronline.org/#left=local.nijuma&right=local.pisura) que podemos usar para explorar mensagens JSON rapidamente, ou para entender como o formato funciona."
      ],
      "id": "dbf7308b"
    },
    {
      "cell_type": "markdown",
      "metadata": {
        "id": "762d7119"
      },
      "source": [
        "# Carregando o arquivo de dados do KartaView\n",
        "\n",
        "Vamos agora analisar os dados coletados através da plataforma KartaView, como explicado em aula. \n",
        "\n",
        "Esses dados estão formatados usando-se o formato JSON de JavaScript Object Notation."
      ],
      "id": "762d7119"
    },
    {
      "cell_type": "code",
      "execution_count": null,
      "metadata": {
        "id": "bc16e082"
      },
      "outputs": [],
      "source": [
        "# arquivo_json = workDir + \"sample1-Ori.json\"\n",
        "# arquivo_json = workDir + \"sample1.json\"\n",
        "# arquivo_json = workDir + \"sample3.json\"\n",
        "\n",
        "with open(arquivo_json, \"r\") as f:\n",
        "    pontos = f.read()\n",
        "    pontos = json.loads(pontos)"
      ],
      "id": "bc16e082"
    },
    {
      "cell_type": "code",
      "execution_count": null,
      "metadata": {
        "id": "8f745d64"
      },
      "outputs": [],
      "source": [
        "print(f\"Chaves na raiz - \\n{pontos.keys()}\\n\")\n",
        "print(f\"Chaves do objeto na chave 'status' - \\n{pontos['status'].keys()}\\n\")\n",
        "print(f\"Chaves do objeto na chave 'osv' - \\n{pontos['osv'].keys()}\")"
      ],
      "id": "8f745d64"
    },
    {
      "cell_type": "markdown",
      "metadata": {
        "id": "e3a84f5b"
      },
      "source": [
        "Seguindo a sequencia de chaves 'osv' -> 'photos' chegamos à uma sequência de objetos.\n",
        "\n",
        "Cada um destes objetos representa os metadados de uma imagem tomada em um ponto do trajeto escolhido no KartaView."
      ],
      "id": "e3a84f5b"
    },
    {
      "cell_type": "code",
      "execution_count": null,
      "metadata": {
        "id": "242bd8c7"
      },
      "outputs": [],
      "source": [
        "# Exemplo de um objeto na chave 'photos':\n",
        "pontos['osv']['photos'][0]\n"
      ],
      "id": "242bd8c7"
    },
    {
      "cell_type": "markdown",
      "metadata": {
        "id": "339d6ccc"
      },
      "source": [
        "Podemos observar que muitos dos campos parecem ter utilidade apenas para a aplicação do KartaView.\n",
        "\n",
        "Para simplificar a análise vamos criar um novo arquivo JSON (chamado extracted que contenha um único objeto raiz com um único par chave/valor. Este par será o campo 'photos' e a sequência para a qual ele é chave:\n",
        "\n",
        "`{\n",
        "\"photos\" :\n",
        "    [\n",
        "    {\n",
        "        'id': '206416139',\n",
        "         'sequence_id': '1131993',\n",
        "         'sequence_index': '0',\n",
        "         'lat': '32.188423',\n",
        "         'lng': '-81.195239',\n",
        "         'fileName': '1131993_119db_1.jpg',\n",
        "         'name': 'storage7/files/photo/2018/3/4/proc/1131993_119db_1.jpg',\n",
        "         'lth_name': 'storage7/files/photo/2018/3/4/lth/1131993_119db_1.jpg',\n",
        "         'th_name': 'storage7/files/photo/2018/3/4/th/1131993_119db_1.jpg',\n",
        "         'path': '2018/3/4',\n",
        "         ...\n",
        "     },\n",
        "     ...\n",
        "    ]\n",
        "}`\n"
      ],
      "id": "339d6ccc"
    },
    {
      "cell_type": "markdown",
      "metadata": {
        "id": "61e2faae"
      },
      "source": [
        "### Exercício: limpeza e simplificação do JSON\n",
        "\n",
        "Usando o arquivo 'extracted_sample1.json' gerado na seção anterior, execute a célula anterior e crie um novo arquivo JSON chamado 'cleaned_sample1.json' em que cada objeto da sequência 'photos' contém somente os campos:\n",
        "\n",
        "- 'lat'\n",
        "- 'lng'\n",
        "- 'heading'\n",
        "- 'shot_date'\n",
        "\n",
        "Ou seja, o novo arquivo gerado a partir do 'extracted_sample1.json' deverá seguir o modelo:\n",
        "\n",
        "`{\n",
        "\"photos\" :\n",
        "    [\n",
        "    {\n",
        "        'lat': '32.188423',\n",
        "        'lng' : '-81.195239',\n",
        "        'heading' : '72.76266',\n",
        "        'shot_date': '2018-03-03 20:29:36'\n",
        "     },\n",
        "     ...\n",
        "    ]\n",
        "}`"
      ],
      "id": "61e2faae"
    },
    {
      "cell_type": "markdown",
      "source": [
        "### Solução do professor: só olhe depois de programar a sua"
      ],
      "metadata": {
        "id": "8Io_M1vZ7U8U"
      },
      "id": "8Io_M1vZ7U8U"
    },
    {
      "cell_type": "code",
      "source": [
        "# funcoes uteis para preparar limpar e simplificar o json\n",
        "# tente primeiro criar as suas funcoes. Depois, compare.\n",
        "\n",
        "def get_photo_array_positions(txt):\n",
        "  s = txt.index(\"\\\"photos\\\":[{\")   \n",
        "  e = txt.index(\"}]\", s + 1)\n",
        "  return s, e + len(\"}]\")\n",
        "\n",
        "def clean_extracted(txt):\n",
        "    patterns = [r'\"fileName\":\".*?\",',\n",
        "        r'\"name\":\".*?\",',\n",
        "        r'\"lth_name\":\".*?\",',\n",
        "        r'\"th_name\":\".*?\",',\n",
        "        r'\"path\":\".*?\",',\n",
        "        r'\"way_id\":\".*?\",',\n",
        "        r'\"id\":\".*?\",',\n",
        "        r'\"sequence_id\":\".*?\",',\n",
        "        r'\"sequence_index\":\".*?\",',\n",
        "        r'\"timestamp\":\".*?\",',\n",
        "        r'\"storage\":\".*?\",',\n",
        "        r'\"field_of_view\":null,',\n",
        "        r'\"is_unwrapped\":\".*?\",',\n",
        "        r'\"unwrap_version\":\".*?\",',\n",
        "        r'\"width\":\".*?\",',\n",
        "        r'\"height\":\".*?\",',\n",
        "        r'\"projection\":\".*?\",',\n",
        "        r'\"cameraParameters\":null,',\n",
        "        r'\"hasDepth\":false',\n",
        "        r'\"hasDepth\":true'\n",
        "    ]\n",
        "    clean = txt\n",
        "    for pattern in patterns:\n",
        "        m = re.search(pattern, txt)\n",
        "        if m is not None:\n",
        "            print(m)\n",
        "        clean = re.sub(pattern, '', clean)\n",
        "    clean = re.sub(\",},\", '},\\n', clean)\n",
        "    clean = re.sub('\",}]}', '\"}]}', clean)\n",
        "    \n",
        "    return clean\n",
        "\n",
        "def make_extract_photos_JSON(output_file, json_msg):\n",
        "    first_pos, last_pos = get_photo_array_positions(json_msg)\n",
        "    extracted_str = \"{\" + json_msg[first_pos:last_pos] + \"}\"\n",
        "    with open(output_file, \"w\") as ejf:\n",
        "        ejf.write(extracted_str)\n",
        "    return extracted_str"
      ],
      "metadata": {
        "id": "Nb6_U9QVGNb1"
      },
      "id": "Nb6_U9QVGNb1",
      "execution_count": null,
      "outputs": []
    },
    {
      "cell_type": "markdown",
      "source": [
        "### Solução do aluno: programe a sua aqui"
      ],
      "metadata": {
        "id": "DqFXdost7crW"
      },
      "id": "DqFXdost7crW"
    },
    {
      "cell_type": "code",
      "source": [
        "# funcoes uteis para preparar limpar e simplificar o json\n",
        "# tente primeiro criar as suas funcoes. Depois, compare.\n",
        "\n",
        "#def get_photo_array_positions(txt):\n",
        " \n",
        "\n",
        "#def clean_extracted(txt):\n",
        "\n",
        "\n",
        "#def make_extract_photos_JSON(output_file, json_msg):\n"
      ],
      "metadata": {
        "id": "lm4C2kAR7ndV"
      },
      "execution_count": null,
      "outputs": [],
      "id": "lm4C2kAR7ndV"
    },
    {
      "cell_type": "code",
      "execution_count": null,
      "metadata": {
        "id": "b9475170"
      },
      "outputs": [],
      "source": [
        "# esta celula usa as funcoes da celula anterior para gerar um JSON simplificado e limpo\n",
        "\n",
        "# jsonfileName = 'sample3.json'\n",
        "# jsonfile = workDir + jsonfileName\n",
        "# extracted_filename = workDir + \"extracted_\" + jsonfileName\n",
        "# cleaned_filename = workDir + \"cleaned_\" + jsonfileName\n",
        "\n",
        "with open(jsonfile, \"r\") as jf:\n",
        "        # Aqui o array 'photos' é extraído e colocado \n",
        "        # em outro arquivo (com o prefixo extracted_),\n",
        "        # para facilitar o processamento do array.\n",
        "        #\n",
        "        # Em seguida usamos a função clean_extracted para\n",
        "        # criar um terceiro arquivo (com prefixo _cleaned)\n",
        "        # que contenha somente os campos de interesse para\n",
        "        # a análise.\n",
        "        txt = jf.read()\n",
        "        txt = re.sub(\"\\s\", \"\", txt)\n",
        "        extracted_str = make_extract_photos_JSON(extracted_filename, txt)\n",
        "\n",
        "        with open(cleaned_filename, \"w\") as cjf:\n",
        "           cjf.write(clean_extracted(extracted_str))\n"
      ],
      "id": "b9475170"
    },
    {
      "cell_type": "markdown",
      "metadata": {
        "id": "67dc8f76"
      },
      "source": [
        "# Definindo uma faixa de pontos\n",
        "\n",
        "O trajeto pode conter muitos pontos (e.g. 7800+ em um dos JSON de exemplo). Para facilitar a nossa vida e a análise, vamos selecionar um conjunto menor de pontos para este exercício. "
      ],
      "id": "67dc8f76"
    },
    {
      "cell_type": "code",
      "execution_count": null,
      "metadata": {
        "id": "e3c071bc"
      },
      "outputs": [],
      "source": [
        "# Vamos carregar os pontos (do JSON filtrado) na variável pontos.\n",
        "# arquivo_pontos = workDir+\"cleaned_sample1.json\"\n",
        "\n",
        "with open(arquivo_pontos, \"r\") as f:\n",
        "    pontos = f.read()\n",
        "    pontos = json.loads(pontos)\n",
        "    pontos = pontos['photos']\n",
        "    print('Tamanho da amostra: ', len(pontos))\n",
        "\n"
      ],
      "id": "e3c071bc"
    },
    {
      "cell_type": "code",
      "execution_count": null,
      "metadata": {
        "id": "c13c5bf1"
      },
      "outputs": [],
      "source": [
        "# Aqui escolhemos quais pontos iremos usar no intervalo entre [0-len(pontos])\n",
        "\n",
        "# abaixo, uma selecao de procao intermediaria\n",
        "n2 = int(len(pontos)/2)\n",
        "intervalo = 500\n",
        "i0 = n2-intervalo\n",
        "i1 = n2+intervalo\n",
        "\n",
        "# abaixo, uma selecao arbitraria\n",
        "i0 = 0\n",
        "i1 = 1000\n",
        "\n",
        "faixa_de_pontos = range(i0,i1)"
      ],
      "id": "c13c5bf1"
    },
    {
      "cell_type": "code",
      "execution_count": null,
      "metadata": {
        "id": "d780566f"
      },
      "outputs": [],
      "source": [
        "# Um ponto da rota escolhida é um objeto com as seguintes propriedades\n",
        "print(pontos[faixa_de_pontos[0]])\n",
        "\n",
        "x = [float(pontos[i]['lng']) for i in faixa_de_pontos]\n",
        "x = np.asarray(x)\n",
        "\n",
        "y = [float(pontos[i]['lat']) for i in faixa_de_pontos]\n",
        "y = np.asarray(y)\n",
        "\n",
        "plt.plot(x,y)\n",
        "plt.axis('equal')\n",
        "plt.show()\n"
      ],
      "id": "d780566f"
    },
    {
      "cell_type": "markdown",
      "metadata": {
        "id": "9b1b9b84"
      },
      "source": [
        "# Medindo distâncias"
      ],
      "id": "9b1b9b84"
    },
    {
      "cell_type": "markdown",
      "metadata": {
        "id": "efbd3ff6"
      },
      "source": [
        "## Funções auxiliares\n",
        "\n",
        "Para facilitar um pouco a escrita do código e termos um código focado\n",
        "no problema que queremos resolver, ao invés de nos preocuparmos com\n",
        "detalhes da estrutura interna dos dados, vamos definir aqui algumas\n",
        "funções auxiliares com a responsabilidade exclusiva de coletar uma propriedade específica da lista de pontos, possivelmente tratando o dado coletado."
      ],
      "id": "efbd3ff6"
    },
    {
      "cell_type": "markdown",
      "metadata": {
        "id": "153bc08d"
      },
      "source": [
        "### def get_point_coords(index, points_object)\n",
        "\n",
        "Essa função irá nos auxiliar para coletar as coordenadas (e.g. longitude e latitude) de um ponto (na posição 'index') da lista de pontos passado também como parâmetro da função.\n",
        "\n",
        "Note que as coordenadas dos pontos (no arquivo de dados) usam a projeção EPSG:4326, isso significa que estas coordenadas são ângulos e portanto precisamos fazer uma conversão, ou mais precisamente uma (re)projeção em um outro sistema de coordenadas (i.e. CRS) que use unidades métricas (e.g. metros)."
      ],
      "id": "153bc08d"
    },
    {
      "cell_type": "code",
      "execution_count": null,
      "metadata": {
        "id": "31bc5bd1"
      },
      "outputs": [],
      "source": [
        "def get_point_coords(index, points_object):\n",
        "    \"\"\"\n",
        "    Essa função recebe um índice numérico correspondendo a uma\n",
        "    posição na lista de pontos \"points_object\".\n",
        "    \n",
        "    Ela retorna um vetor do numpy com a longitude e latitude\n",
        "    (propriedades 'lng' e 'lat') do ponto na posição 'index'.\n",
        "    \"\"\"\n",
        "    lat = points_object[index]['lat']\n",
        "    lat = float(lat)\n",
        "    lng = points_object[index]['lng']\n",
        "    lng = float(lng)\n",
        "    return np.array((lng, lat))\n"
      ],
      "id": "31bc5bd1"
    },
    {
      "cell_type": "markdown",
      "metadata": {
        "id": "61d91ec1"
      },
      "source": [
        "### def get_point_coords_proj(index, points_object)\n",
        "\n",
        "Essa função auxiliar faz exatamente o mesmo que a anterior, contudo os pontos aqui são reprojetados para a projeção EPSG:3857, que usa como unidade métrica o 'metro' ao invés de graus de ângulo."
      ],
      "id": "61d91ec1"
    },
    {
      "cell_type": "code",
      "execution_count": null,
      "metadata": {
        "id": "0a13e8b1"
      },
      "outputs": [],
      "source": [
        "def get_point_coords_proj(index, points_object):\n",
        "    \"\"\"\n",
        "    Essa função é similar a get_point_coords, ela \n",
        "    recebe um índice numérico correspondendo a uma\n",
        "    posição na lista de pontos \"points_object\".\n",
        "    \n",
        "    Contudo esta os pontos na projeção EPSG:3857 em\n",
        "    que a unidade de medida é em metros e portanto\n",
        "    podemos calcular a distância euclidiana entre dois\n",
        "    pontos com base em suas coordenadas.\n",
        "    \n",
        "    Os pontos retornados são um vetor numpy em que\n",
        "    a primeira posição é uma medida em metros no eixo\n",
        "    horizontal e a segunda é num eixo vertical.\n",
        "    O ponto de origem pode ser visto aqui https://epsg.io/3857\n",
        "    \"\"\"\n",
        "    \n",
        "    lat = points_object[index]['lat']\n",
        "    lat = float(lat)\n",
        "    lng = points_object[index]['lng']\n",
        "    lng = float(lng)\n",
        "    p = np.array((lng, lat))\n",
        "    p = transform(Proj(init='epsg:4326'), Proj(init='epsg:3857'), p[0], p[1])\n",
        "    return p"
      ],
      "id": "0a13e8b1"
    },
    {
      "cell_type": "markdown",
      "metadata": {
        "id": "82b0a7d7"
      },
      "source": [
        "### def get_shot_time(index, points_object)\n",
        "\n",
        "Esta função é um acessor para a propriedade 'shot_date' na lista de pontos. Essa propriedade indica o momento (dia e hora incluindo segundos) em que o ponto foi criado."
      ],
      "id": "82b0a7d7"
    },
    {
      "cell_type": "code",
      "execution_count": null,
      "metadata": {
        "id": "fd65ea98"
      },
      "outputs": [],
      "source": [
        "FMT = '%Y-%m-%d %H:%M:%S'\n",
        "def get_shot_time(index, points_object):\n",
        "    \"\"\"\n",
        "    Retorna a data e hora em que o ponto 'index',\n",
        "    da lista de pontos 'points_object', foi criado.\n",
        "    \n",
        "    O formato de retorno é uma string '%Y-%m-%d %H:%M:%S'\n",
        "    (e.g. 2018-03-03 20:55:32)\n",
        "    \"\"\"\n",
        "    return points_object[index]['shot_date']"
      ],
      "id": "fd65ea98"
    },
    {
      "cell_type": "markdown",
      "metadata": {
        "id": "1881216b"
      },
      "source": [
        "### Visualizando a distância percorrida no tempo\n",
        "Note que o movimento não é perfeitamente uniforme em todos os momentos e note também que nem todos os momentos de tempo existem no conjunto de dados (e.g. lacunas entre dois 'segmentos de reta')"
      ],
      "id": "1881216b"
    },
    {
      "cell_type": "markdown",
      "metadata": {
        "id": "76e4a73f"
      },
      "source": [
        "## Exemplo com 2 pontos\n",
        "\n",
        "Aqui vamos medir distâncias entre dois pontos\n",
        "para termos uma ideia de como usar as definições\n",
        "e funções auxiliares definidas até aqui."
      ],
      "id": "76e4a73f"
    },
    {
      "cell_type": "markdown",
      "metadata": {
        "id": "108599b1"
      },
      "source": [
        "### Coordenadas em metros\n",
        "\n",
        "Usamos a função auxiliar get_point_coords_proj, cujas coordenadas\n",
        "de retorno usam unidades de medida em metros."
      ],
      "id": "108599b1"
    },
    {
      "cell_type": "code",
      "execution_count": null,
      "metadata": {
        "id": "9f426f7f"
      },
      "outputs": [],
      "source": [
        "pp1 = get_point_coords_proj(faixa_de_pontos[0], pontos)\n",
        "\n",
        "pp2 = get_point_coords_proj(faixa_de_pontos[1], pontos)\n",
        "\n",
        "# Note que aqui temos uma unidade de metros à leste\n",
        "# (ou oeste em caso negativo) e à norte (ou sul\n",
        "# em caso negativo) de um dado local no planeta.\n",
        "\n",
        "print(f'easting pp1: {pp1[0]} m; northing pp1: {pp1[1]} m')\n",
        "print(f'easting pp2: {pp2[0]} m; northing pp2: {pp2[1]} m')"
      ],
      "id": "9f426f7f"
    },
    {
      "cell_type": "markdown",
      "metadata": {
        "id": "3978b48a"
      },
      "source": [
        "## Exercícios"
      ],
      "id": "3978b48a"
    },
    {
      "cell_type": "markdown",
      "metadata": {
        "id": "ae4924e0"
      },
      "source": [
        "### Medindo a distância entre dois pontos\n",
        "\n",
        "Neste exercício você deve implementar a função distancia_euclidiana.\n",
        "\n",
        "Esta função recebe dois vetores (i.e. array numpy) cada um com duas dimensões e retorna\n",
        "a distância euclidiana entre eles."
      ],
      "id": "ae4924e0"
    },
    {
      "cell_type": "code",
      "execution_count": null,
      "metadata": {
        "id": "4d583008"
      },
      "outputs": [],
      "source": [
        "def distancia_euclidiana(v1, v2):\n",
        "    \"\"\"\n",
        "    Tendo como parâmetros os vetores numpy 2D 'v1' e 'v2', crie uma\n",
        "    função que retorne a distância euclidiana entre os dois vetores.\n",
        "    \"\"\"\n",
        "\n",
        "    return(0)"
      ],
      "id": "4d583008"
    },
    {
      "cell_type": "code",
      "execution_count": null,
      "metadata": {
        "id": "aedf6dc7"
      },
      "outputs": [],
      "source": [
        "# Desta vez a distância resultante pode ser interpretada\n",
        "# fisicamente em metros.\n",
        "\n",
        "print(f'A distância entre pp1 e pp2 é: {distancia_euclidiana(pp1, pp2)} metros.')"
      ],
      "id": "aedf6dc7"
    },
    {
      "cell_type": "code",
      "execution_count": null,
      "metadata": {
        "id": "66565e2d"
      },
      "outputs": [],
      "source": [
        "# Teste artificial\n",
        "\n",
        "pv1 = np.array([1, 1]) # Ponto x = 1, y = 1\n",
        "pv2 = np.array([1, -1]) # Ponto x = 2, y = 0\n",
        "\n",
        "print(f'A distância entre pv1 e pv2 é 2')\n",
        "print(f'A distância retornada pela função implementada foi {distancia_euclidiana(pv1, pv2)}\\n')\n",
        "if (distancia_euclidiana(pv1, pv2) == 2):\n",
        "    print(\"A distância foi calculada corretamente\")\n",
        "else:\n",
        "    print(\"A distância foi calculada incorretamente\\n\")\n",
        "    print(f\"O erro entre o esperado e o calculado foi {2 - distancia_euclidiana(pv1, pv2)}\")"
      ],
      "id": "66565e2d"
    },
    {
      "cell_type": "markdown",
      "metadata": {
        "id": "cabe6e24"
      },
      "source": [
        "### Exercício - Visualizando o comprimento de cada trecho\n",
        "\n",
        "Usando a função criada no exercício anterior vamos agora ver a distância percorrida pelo veículo a cada passo do sub-trajeto selecionado:\n",
        "\n",
        "A ideia aqui é que todos os pontos da faixa de pontos selecionada sejam percorridos, e para cada par de pontos subsequentes seja calculada a distância entre eles e impressa essa distância.\n",
        "\n",
        "Imprima uma lista como o exemplo a seguir usando a sua função de medir distância entre dois pontos:\n",
        "\n",
        "\n",
        "- trecho 1000 a 1001 ; d = 0\n",
        "- trecho 1001 a 1002 ; d = 0\n",
        "- trecho 1002 a 1003 ; d = 0\n",
        "- trecho 1003 a 1004 ; d = 0\n",
        "- ...\n",
        "- trecho 1097 a 1098 ; d = 0\n",
        "- trecho 1098 a 1099 ; d = 0\n",
        "- trecho 1099 a 1100 ; d = 0\n",
        "\n",
        "Dica, você pode usar a linha abaixo para imprimir uma vez que a distância foi calculada:\n",
        "\n",
        "`print(f'trecho {i} {i+1} ; d = {dist}')`"
      ],
      "id": "cabe6e24"
    }
  ],
  "metadata": {
    "colab": {
      "name": "MAC0209_Kartaview1.ipynb",
      "provenance": [],
      "collapsed_sections": []
    },
    "kernelspec": {
      "display_name": "Python 3",
      "language": "python",
      "name": "python3"
    },
    "language_info": {
      "codemirror_mode": {
        "name": "ipython",
        "version": 3
      },
      "file_extension": ".py",
      "mimetype": "text/x-python",
      "name": "python",
      "nbconvert_exporter": "python",
      "pygments_lexer": "ipython3",
      "version": "3.8.5"
    },
    "toc": {
      "base_numbering": 1,
      "nav_menu": {},
      "number_sections": true,
      "sideBar": true,
      "skip_h1_title": false,
      "title_cell": "Table of Contents",
      "title_sidebar": "Contents",
      "toc_cell": false,
      "toc_position": {},
      "toc_section_display": true,
      "toc_window_display": true
    }
  },
  "nbformat": 4,
  "nbformat_minor": 5
}