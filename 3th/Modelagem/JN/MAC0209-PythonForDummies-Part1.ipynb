{
 "cells": [
  {
   "cell_type": "markdown",
   "metadata": {
    "id": "amtirp4a9fwa"
   },
   "source": [
    "## MAC0209 - Modelagem e Simulação\n",
    "\n",
    "### Este notebook foi feito para quem sabe programar, mas ainda não sabe Python.\n",
    "\n",
    "### Divirta-se!\n",
    "\n"
   ]
  },
  {
   "cell_type": "markdown",
   "metadata": {
    "id": "Uq3OaQDK9fwu"
   },
   "source": [
    "## Variáveis e print\n",
    "\n",
    "- Variáveis e seus tipos\n",
    "- função print"
   ]
  },
  {
   "cell_type": "code",
   "execution_count": null,
   "metadata": {
    "colab": {
     "base_uri": "https://localhost:8080/"
    },
    "executionInfo": {
     "elapsed": 1923,
     "status": "ok",
     "timestamp": 1617708923988,
     "user": {
      "displayName": "Artur André Almeida de Macedo Oliveira",
      "photoUrl": "",
      "userId": "03596783672353073020"
     },
     "user_tz": 180
    },
    "id": "T_Uh0pgb9fwv",
    "outputId": "370176cc-564d-4f47-9f5a-1f82f815c807"
   },
   "outputs": [],
   "source": [
    "# Para definir uma variável, basta colocar o nome e atribuir um valor a ela.\n",
    "\n",
    "dia = 30\n",
    "\n",
    "# Para imprimir o valor da variável, basta usar a função print\n",
    "\n",
    "print(dia)\n",
    "\n",
    "# A atribuição do valor define o tipo da variável.\n",
    "\n",
    "print(type(dia))"
   ]
  },
  {
   "cell_type": "code",
   "execution_count": null,
   "metadata": {
    "colab": {
     "base_uri": "https://localhost:8080/"
    },
    "executionInfo": {
     "elapsed": 1919,
     "status": "ok",
     "timestamp": 1617708923989,
     "user": {
      "displayName": "Artur André Almeida de Macedo Oliveira",
      "photoUrl": "",
      "userId": "03596783672353073020"
     },
     "user_tz": 180
    },
    "id": "Z06PsDf69fww",
    "outputId": "68f3ba2f-894c-42de-82e5-268d4e9fd9ca"
   },
   "outputs": [],
   "source": [
    "# Outros tipos: float\n",
    "\n",
    "litros = 5.3\n",
    "\n",
    "print(litros)\n",
    "\n",
    "print(type(litros))\n",
    "\n",
    "nome = \"Roberto Hirata\"\n",
    "\n",
    "print(nome)\n",
    "\n",
    "print(type(nome))"
   ]
  },
  {
   "cell_type": "markdown",
   "metadata": {
    "id": "-nrPSpIr9fwx"
   },
   "source": [
    "### Expressões aritméticas\n",
    "\n",
    "**Operadores** são símbolos especiais (palavras reservadas) que representam funções matemáticas como \n",
    "- adição (`+`) e subtração (`-`), \n",
    "- multiplicação (`*`) e divisão (`/`),\n",
    "- divisão inteira (`//`)\n",
    "- exponenciação (`**`) e \n",
    "- resto da divisão inteira (`%`)."
   ]
  },
  {
   "cell_type": "code",
   "execution_count": null,
   "metadata": {
    "colab": {
     "base_uri": "https://localhost:8080/"
    },
    "executionInfo": {
     "elapsed": 1915,
     "status": "ok",
     "timestamp": 1617708923990,
     "user": {
      "displayName": "Artur André Almeida de Macedo Oliveira",
      "photoUrl": "",
      "userId": "03596783672353073020"
     },
     "user_tz": 180
    },
    "id": "M_ww3p919fwx",
    "outputId": "fb966a59-c73c-4de9-e336-7722fc3fa770"
   },
   "outputs": [],
   "source": [
    "# Experimente com esses operadores e note como o Python converte a classe de\n",
    "# uma variável para a classe mais abrangente.\n",
    "dias = 50\n",
    "print(type(dias))\n",
    "tempo = 3\n",
    "dias = dias/tempo\n",
    "print(type(dias),type(tempo))"
   ]
  },
  {
   "cell_type": "markdown",
   "metadata": {
    "id": "364WGUYO9fwy"
   },
   "source": [
    "## Comandos de repetição \n",
    "\n",
    "```python\n",
    "while \"condição\":\n",
    "    # comandos\n",
    "    # atualiza \"condição\"\n",
    "```"
   ]
  },
  {
   "cell_type": "markdown",
   "metadata": {
    "id": "xeBMVVhl9fwy"
   },
   "source": [
    "## Exemplo: Algoritmo de Euclides\n",
    "\n",
    "mdc(a,b) = mdc(b,a % b) = mdc(a % b, b % (a % b)) = ... = mdc(r, 0) = r\n",
    "\n",
    "mdc(12,9) = mdc(9,3) = mdc(3,0) = 3  \n",
    "\n",
    "mdc(9,12) = mdc(12,9) = 3"
   ]
  },
  {
   "cell_type": "code",
   "execution_count": null,
   "metadata": {
    "executionInfo": {
     "elapsed": 1275088,
     "status": "aborted",
     "timestamp": 1617710346653,
     "user": {
      "displayName": "Artur André Almeida de Macedo Oliveira",
      "photoUrl": "",
      "userId": "03596783672353073020"
     },
     "user_tz": 180
    },
    "id": "RCaQcjA59fwy"
   },
   "outputs": [],
   "source": [
    "a = int(input(\"a > 0: \"))\n",
    "b = int(input(\"b > 0: \"))\n",
    "\n",
    "anterior = a\n",
    "atual    = b\n",
    "resto    = anterior % atual\n",
    "\n",
    "while resto != 0:\n",
    "    anterior = atual\n",
    "    atual    = resto\n",
    "    resto    = anterior % atual\n",
    "\n",
    "print(\"O MDC entre \",a,\" e \",b,\" é: \",atual)"
   ]
  },
  {
   "cell_type": "markdown",
   "metadata": {
    "id": "s1hDtNo29fwz"
   },
   "source": [
    "## Execução condicional\n",
    "\n",
    "Como toda linguagem de programação, está definida a seleção múltipla:\n",
    "\n",
    "  - `if-elif-else`\n",
    "  - operadores e operações lógicas\n",
    "  \n",
    "  "
   ]
  },
  {
   "cell_type": "markdown",
   "metadata": {
    "id": "3QWeB64D9fwz"
   },
   "source": [
    "## Comandos de repetição - Indicador de passagem\n",
    "\n",
    "```python\n",
    "indicador = False\n",
    "while \"condição\":\n",
    "    # comandos\n",
    "    if \"condição\":\n",
    "        indicador = True  # passou por aqui\n",
    "    # comandos    \n",
    "if indicador:\n",
    "    # comandos\n",
    "```"
   ]
  },
  {
   "cell_type": "code",
   "execution_count": null,
   "metadata": {
    "colab": {
     "base_uri": "https://localhost:8080/"
    },
    "executionInfo": {
     "elapsed": 220382,
     "status": "ok",
     "timestamp": 1617709142466,
     "user": {
      "displayName": "Artur André Almeida de Macedo Oliveira",
      "photoUrl": "",
      "userId": "03596783672353073020"
     },
     "user_tz": 180
    },
    "id": "krvk5-vi9fwz",
    "outputId": "7d9fcd1f-3594-478d-d0ba-734d322961e2"
   },
   "outputs": [],
   "source": [
    "# Problema - Dada uma sequência de números inteiros quaisquer \n",
    "# terminada em zero, determine se a sequência está em ordem crescente.\n",
    "\n",
    "anterior = int(input(\"Digite um número inteiro: \"))\n",
    "posterior = int(input(\"Digite um número inteiro: \"))\n",
    "\n",
    "ehCrescente = True\n",
    "while posterior != 0 and ehCrescente:\n",
    "    ehCrescente = (anterior <= posterior) and ehCrescente\n",
    "    anterior = posterior\n",
    "    posterior = int(input(\"Digite um número inteiro: \"))\n",
    "if ehCrescente:\n",
    "    print(\"A sequência digitada é crescente.\")\n",
    "else:\n",
    "    print(\"A sequência digitada não é crescente.\")"
   ]
  },
  {
   "cell_type": "markdown",
   "metadata": {
    "id": "9ZM171dR9fw0"
   },
   "source": [
    "#### Problema - Conjectura de Collatz (https://pt.wikipedia.org/wiki/Conjectura_de_Collatz)\n",
    "\n",
    "A conjectura diz que para qualquer $𝑎_0>0$ a sequência sempre termina em $𝑎_𝑛=1$ em um número finito de passos. Dado um inteiro $a_0 > 0$,  compute e imprima a sequência:\n",
    "$$\n",
    "   a_{n+1} = \\begin{cases} a_n / 2 & \\text{se } a_n \\text{ é par}\\\\ 3\\times a_n + 1 & \\text{se } a_n \\text{ é ímpar} \\end{cases}\n",
    "$$\n",
    "até $a_n = 1$. \n",
    "\n",
    "*Exemplo:* para $a_0 = 12$, temos a sequência $12, 6, 3, 10, 5, 16, 8, 4, 2, 1$."
   ]
  },
  {
   "cell_type": "code",
   "execution_count": null,
   "metadata": {
    "colab": {
     "base_uri": "https://localhost:8080/"
    },
    "executionInfo": {
     "elapsed": 347614,
     "status": "ok",
     "timestamp": 1617709269701,
     "user": {
      "displayName": "Artur André Almeida de Macedo Oliveira",
      "photoUrl": "",
      "userId": "03596783672353073020"
     },
     "user_tz": 180
    },
    "id": "zfnjYHX-9fw0",
    "outputId": "d48eeb7f-4259-4fae-a5a4-603bf103dcf0"
   },
   "outputs": [],
   "source": [
    "a = int(input(\"Digite um número inteiro positivo maior que zero: \"))\n",
    "while (a <= 0):\n",
    "    print(\"Você digitou um número negativo, ou zero\")\n",
    "    a = int(input(\"Digite um número inteiro positivo maior que zero: \"))\n",
    "\n",
    "while a != 1:\n",
    "    print(a, end = \" \")\n",
    "    if a % 2 == 0:\n",
    "        a = a // 2\n",
    "    else:\n",
    "        a = 3*a + 1\n",
    "print(1)"
   ]
  },
  {
   "cell_type": "markdown",
   "metadata": {
    "id": "qh1jp9209fw0"
   },
   "source": [
    "## Declaração e execução de uma função\n",
    "\n",
    "Em Python, uma função é declarada usando-se o comando def\n",
    "\n",
    "```python\n",
    "\n",
    "def nome_da_função(parâmetros):\n",
    "    # corpo da função\n",
    "    #\n",
    "    # \n",
    "```\n",
    "\n",
    "Uma vez definida, para executá-la, basta chamá-la, isto é, escrever o nome da função como se fosse um dos comandos da linguagem. "
   ]
  },
  {
   "cell_type": "code",
   "execution_count": null,
   "metadata": {
    "colab": {
     "base_uri": "https://localhost:8080/"
    },
    "executionInfo": {
     "elapsed": 347613,
     "status": "ok",
     "timestamp": 1617709269702,
     "user": {
      "displayName": "Artur André Almeida de Macedo Oliveira",
      "photoUrl": "",
      "userId": "03596783672353073020"
     },
     "user_tz": 180
    },
    "id": "KWk16qY29fw3",
    "outputId": "04f9790f-0c83-4670-8742-7c195ffaf06a"
   },
   "outputs": [],
   "source": [
    "def mensagemErro(errn):\n",
    "    if (errn==1):\n",
    "        print(\"Operation not permitted\")\n",
    "    elif (errn==2):\n",
    "        print(\"No such file or directory\")\n",
    "    elif (errn==3):    \n",
    "        print(\"No such process\")\n",
    "    elif (errn==4):\n",
    "        print(\"Interrupted system call\")\n",
    "    elif (errn==5):    \n",
    "        print(\"I/O error\")\n",
    "    else:\n",
    "        print(\"Something bad happed, we don't know what!\")\n",
    "\n",
    "mensagemErro(4) \n",
    "mensagemErro(1)"
   ]
  },
  {
   "cell_type": "markdown",
   "metadata": {
    "id": "-r2nSScp9fw3"
   },
   "source": [
    "## Retorno de valores\n",
    "\n",
    "Uma função pode não devolver nenhum valor como é o caso da função mensagemErro. \n",
    "\n",
    "Porém, a maioria das funções retornam valores através do comando return.\n",
    "\n",
    "```python\n",
    "\n",
    "def nome_da_função(parâmetros):\n",
    "    # corpo da função\n",
    "    #\n",
    "    return valor, ou valores \n",
    "```"
   ]
  },
  {
   "cell_type": "code",
   "execution_count": null,
   "metadata": {
    "colab": {
     "base_uri": "https://localhost:8080/"
    },
    "executionInfo": {
     "elapsed": 741,
     "status": "ok",
     "timestamp": 1617710438079,
     "user": {
      "displayName": "Artur André Almeida de Macedo Oliveira",
      "photoUrl": "",
      "userId": "03596783672353073020"
     },
     "user_tz": 180
    },
    "id": "Ms7o28739fw4",
    "outputId": "6901bd3a-cbc3-4d12-91b4-7f1d2f99df5d"
   },
   "outputs": [],
   "source": [
    "def max2(x,y):\n",
    "    if x>y:\n",
    "        maxxy = x\n",
    "    else:\n",
    "        maxxy = y\n",
    "    return maxxy    \n",
    "\n",
    "a = 5.4\n",
    "b = 10.2\n",
    "print(\"O maior valor entre \",a,\" e \",b,\" é \",max2(a,b))\n",
    "print(\"O maior valor entre \",b,\" e \",a,\" é \",max2(b,a))"
   ]
  },
  {
   "cell_type": "markdown",
   "metadata": {
    "id": "1pFuFXAI9fw4"
   },
   "source": [
    "## Listas: Definição e Criação\n",
    "\n",
    "Em Python, uma lista é uma sequência ou coleção de valores, não necessariamente do mesmo tipo, que serão armazenados na memória :\n",
    "\n",
    "```python\n",
    "V = [2, 3, 5, 7, 11]\n",
    "MinhaLista = [10, 20, 30, 40]\n",
    "ListaNomes = [\"spam\", \"bungee\", \"swallow\"]\n",
    "ListaMaluca = [\"oi\", 2.0, 5, 'A', True]\n",
    "```\n",
    "\n",
    "O valores que formam uma lista são chamados **elementos** ou **itens**."
   ]
  },
  {
   "cell_type": "code",
   "execution_count": null,
   "metadata": {
    "executionInfo": {
     "elapsed": 721,
     "status": "ok",
     "timestamp": 1617710451593,
     "user": {
      "displayName": "Artur André Almeida de Macedo Oliveira",
      "photoUrl": "",
      "userId": "03596783672353073020"
     },
     "user_tz": 180
    },
    "id": "MJbJZOq-9fw4"
   },
   "outputs": [],
   "source": [
    "def insere(elemento, conjunto:list) -> None:\n",
    "    \" Insere elemento no conjunto representado como lista. \"\n",
    "    i = 0\n",
    "    while i < len(conjunto):        \n",
    "        if conjunto[i] == elemento:\n",
    "            # elemento já faz parte do conjunto, nada precisa ser feito\n",
    "            return\n",
    "        i = i + 1\n",
    "    # elemento não faz parte do conjunto, devemos inserí-lo\n",
    "    conjunto.append( elemento )"
   ]
  },
  {
   "cell_type": "code",
   "execution_count": null,
   "metadata": {
    "colab": {
     "base_uri": "https://localhost:8080/"
    },
    "executionInfo": {
     "elapsed": 8578,
     "status": "ok",
     "timestamp": 1617710466274,
     "user": {
      "displayName": "Artur André Almeida de Macedo Oliveira",
      "photoUrl": "",
      "userId": "03596783672353073020"
     },
     "user_tz": 180
    },
    "id": "YHn0s_6u9fw5",
    "outputId": "7f11c72c-9f82-4ab0-f323-ad77a7871fa8"
   },
   "outputs": [],
   "source": [
    "def main():\n",
    "    n = int(input(\"Quantos números? \"))\n",
    "    lista = []\n",
    "    while n > 0:\n",
    "        x = int(input(\"Digite um número: \"))\n",
    "        insere(x, lista)\n",
    "        n = n - 1\n",
    "    \n",
    "    print(lista)\n",
    "        \n",
    "if __name__ == '__main__':\n",
    "    main()"
   ]
  },
  {
   "cell_type": "markdown",
   "metadata": {
    "id": "0bKozrvA9fw8"
   },
   "source": [
    "## Iteração sobre elementos de uma lista\n",
    "\n",
    "Uma outra forma de iterar um conjunto de comandos é usar \n",
    "o comando `for` cuja sintaxe é: \n",
    "\n",
    "`for elem in lista:` \n",
    "\n",
    "Esse comando executará o bloco de comandos para cada elemento `elem` em `lista`."
   ]
  },
  {
   "cell_type": "code",
   "execution_count": null,
   "metadata": {
    "colab": {
     "base_uri": "https://localhost:8080/"
    },
    "executionInfo": {
     "elapsed": 735,
     "status": "ok",
     "timestamp": 1617710969726,
     "user": {
      "displayName": "Artur André Almeida de Macedo Oliveira",
      "photoUrl": "",
      "userId": "03596783672353073020"
     },
     "user_tz": 180
    },
    "id": "NmHtbWiC9fw8",
    "outputId": "41f6ca2c-52bb-45da-fe19-41d37d30e709"
   },
   "outputs": [],
   "source": [
    "# Exemplo\n",
    "\n",
    "primos = [2, 3, 5, 7, 11, 13]\n",
    "for num in primos:\n",
    "    print(num, end = ' ')"
   ]
  },
  {
   "cell_type": "markdown",
   "metadata": {
    "id": "xkSbToh69fw8"
   },
   "source": [
    "## Fatias de uma lista\n",
    "\n",
    "Um dos operadores mais importantes e úteis do Python é o fatiador [:]\n",
    "\n",
    "A sintaxe do comando é: `lista[ini:fim]` produz a sublista `[lista[ini], lista[ini+1], ..., lista[fim-1]]`\n",
    "\n",
    "A sublista produzida é chamada de **fatia** de `lista`"
   ]
  },
  {
   "cell_type": "code",
   "execution_count": null,
   "metadata": {
    "colab": {
     "base_uri": "https://localhost:8080/"
    },
    "executionInfo": {
     "elapsed": 730,
     "status": "ok",
     "timestamp": 1617711003045,
     "user": {
      "displayName": "Artur André Almeida de Macedo Oliveira",
      "photoUrl": "",
      "userId": "03596783672353073020"
     },
     "user_tz": 180
    },
    "id": "HBO1n68s9fw8",
    "outputId": "3fafbb77-b8ba-4403-e881-2f9bc2e190fd"
   },
   "outputs": [],
   "source": [
    "# Exemplo\n",
    "\n",
    "primos = [2,3,5,7,11,13]\n",
    "fatia = primos[1:4] # fatia(primos,1,4)\n",
    "for num in fatia:\n",
    "    print( num, end = ' ')"
   ]
  },
  {
   "cell_type": "markdown",
   "metadata": {
    "id": "J5xQ8wmp9fw9"
   },
   "source": [
    "## O comando `range`\n",
    "\n",
    "```\n",
    "range(início,fim,passo)\n",
    "```\n",
    "\n",
    "O comando `range` gera um objeto iterável do tipo `range` cujos elementos da iteração são uma sequência de números de início até fim-1, de acordo com o passo.\n",
    "\n",
    "início = número inicial da sequência\n",
    "fim = número limite, menos um, da sequência (pode ser diferente de fim-1 dependendo do passo)\n",
    "passo = incremento "
   ]
  },
  {
   "cell_type": "code",
   "execution_count": null,
   "metadata": {
    "colab": {
     "base_uri": "https://localhost:8080/"
    },
    "executionInfo": {
     "elapsed": 750,
     "status": "ok",
     "timestamp": 1617711024503,
     "user": {
      "displayName": "Artur André Almeida de Macedo Oliveira",
      "photoUrl": "",
      "userId": "03596783672353073020"
     },
     "user_tz": 180
    },
    "id": "s1eBrF069fw9",
    "outputId": "bcdb8ea3-f8e4-4b96-f029-90e9e9c34c03",
    "scrolled": true
   },
   "outputs": [],
   "source": [
    "# Uma lista de 0 a 8\n",
    "print(list(range(9)))\n",
    "\n",
    "# Uma lista de 5 a 8\n",
    "print(list(range(5,9)))\n",
    "\n",
    "# Uma lista de 2 a no máximo 8 de 2 em 2\n",
    "print(list(range(2,9,2)))\n",
    "\n",
    "# Uma lista de 2 a no máximo 8 de 4 em 4\n",
    "print(list(range(2,9,4)))"
   ]
  },
  {
   "cell_type": "code",
   "execution_count": null,
   "metadata": {},
   "outputs": [],
   "source": []
  }
 ],
 "metadata": {
  "celltoolbar": "Slideshow",
  "colab": {
   "collapsed_sections": [
    "amtirp4a9fwa",
    "Uq3OaQDK9fwu",
    "-nrPSpIr9fwx",
    "364WGUYO9fwy",
    "xeBMVVhl9fwy",
    "s1hDtNo29fwz",
    "3QWeB64D9fwz",
    "9ZM171dR9fw0",
    "qh1jp9209fw0"
   ],
   "name": "MAC0209-PythonForDummies-Part1.ipynb",
   "provenance": []
  },
  "kernelspec": {
   "display_name": "Python 3",
   "language": "python",
   "name": "python3"
  },
  "language_info": {
   "codemirror_mode": {
    "name": "ipython",
    "version": 3
   },
   "file_extension": ".py",
   "mimetype": "text/x-python",
   "name": "python",
   "nbconvert_exporter": "python",
   "pygments_lexer": "ipython3",
   "version": "3.8.5"
  },
  "toc": {
   "base_numbering": 1,
   "nav_menu": {},
   "number_sections": true,
   "sideBar": true,
   "skip_h1_title": false,
   "title_cell": "Table of Contents",
   "title_sidebar": "Contents",
   "toc_cell": false,
   "toc_position": {},
   "toc_section_display": true,
   "toc_window_display": true
  }
 },
 "nbformat": 4,
 "nbformat_minor": 1
}
