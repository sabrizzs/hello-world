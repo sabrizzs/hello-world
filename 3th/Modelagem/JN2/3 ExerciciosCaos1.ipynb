{
 "cells": [
  {
   "cell_type": "markdown",
   "id": "9d3a6409",
   "metadata": {},
   "source": [
    "# MAC0209 - Modelagem e Simulação\n",
    "\n",
    "Pynamical: Demo of logistic map and bifurcation diagrams\n",
    "\n",
    "Author: Geoff Boeing\n",
    "\n",
    "Adapted and modified by: R. Hirata Jr., Artur André, Roberto. M. Cesar Jr to be used in MAC0209\n",
    "\n",
    "Leia o artigo completo aqui:\n",
    "http://geoffboeing.com/2015/03/chaos-theory-logistic-map/"
   ]
  },
  {
   "cell_type": "code",
   "execution_count": null,
   "id": "9a995a45",
   "metadata": {},
   "outputs": [],
   "source": [
    "!python -m pip install pynamical\n",
    "!python -m pip uninstall matplotlib -y\n",
    "!python -m pip install matplotlib==3.1.3\n"
   ]
  },
  {
   "cell_type": "code",
   "execution_count": null,
   "id": "9517c508",
   "metadata": {},
   "outputs": [],
   "source": [
    "!python -m pip install imageio"
   ]
  },
  {
   "cell_type": "code",
   "execution_count": null,
   "id": "a63cb2ab",
   "metadata": {},
   "outputs": [],
   "source": [
    "from pynamical import logistic_map, simulate, bifurcation_plot\n",
    "import numpy as np\n",
    "\n",
    "import matplotlib.pyplot as plt\n",
    "plt.rcParams.update({'font.size': 22})\n",
    "SUB = str.maketrans(\"0123456789\", \"₀₁₂₃₄₅₆₇₈₉\")\n"
   ]
  },
  {
   "cell_type": "code",
   "execution_count": null,
   "id": "6f66570b",
   "metadata": {},
   "outputs": [],
   "source": [
    "pops = simulate(model=logistic_map, num_gens=100, rate_min=0, rate_max=4, num_rates=1000, num_discard=100)\n",
    "bifurcation_plot(pops)"
   ]
  },
  {
   "cell_type": "code",
   "execution_count": null,
   "id": "65292860",
   "metadata": {},
   "outputs": [],
   "source": [
    "fig = bifurcation_plot(pops)\n",
    "#plt.axvline(x=3.1, ymin=0, ymax=1)"
   ]
  },
  {
   "cell_type": "markdown",
   "id": "bc5bcdad",
   "metadata": {},
   "source": [
    "### Aqui vamos analizar a primeira geração ($x_1$)onde a população inicial, $x_0 \\in [0,1]$ varia entre 0 e 1; a taxa de crecimento $r = 0.5$ é fixa."
   ]
  },
  {
   "cell_type": "code",
   "execution_count": null,
   "id": "b8b6ab3f",
   "metadata": {},
   "outputs": [],
   "source": [
    "x = np.linspace(0,1, 100)\n",
    "plt.scatter(x, logistic_map(x, 0.5))\n",
    "plt.title('Logistic map, r = 0.5')\n",
    "plt.ylabel('Population, x1'.translate(SUB))\n",
    "plt.xlabel('Initial population, x0'.translate(SUB))"
   ]
  },
  {
   "cell_type": "markdown",
   "id": "8ef2e641",
   "metadata": {},
   "source": [
    "### Aqui vamos analizar a primeira geração onde a população inicial, $x_0 = 0.5$, e a taxa de crescimento $r \\in [0,4]$ varia entre 0 e 4."
   ]
  },
  {
   "cell_type": "code",
   "execution_count": null,
   "id": "19f37775",
   "metadata": {},
   "outputs": [],
   "source": [
    "r = np.linspace(0,4, 100)\n",
    "plt.scatter(r, logistic_map(.5, r))\n",
    "plt.title('Logistic map, x0'.translate(SUB)+' = 0.5')\n",
    "plt.xlabel('Growth Rate, r')\n",
    "plt.ylabel('Population, x1')"
   ]
  },
  {
   "cell_type": "markdown",
   "id": "513ffb2a",
   "metadata": {},
   "source": [
    "### Aqui podemos ver que alguns pares de população inicial e taxas de crescimento atingem pontos de estabilidade após um certo número de gerações. Aqui rodamos cada caso por 100 gerações, isso é, de $x_0$ até $x_{99}$."
   ]
  },
  {
   "cell_type": "code",
   "execution_count": null,
   "id": "4f41b8ac",
   "metadata": {},
   "outputs": [],
   "source": [
    "xini0 = 0.3\n",
    "xini1 = 0.5\n",
    "xini2 = 0.8\n",
    "r0 = 0\n",
    "r1 = 0.5\n",
    "r2 = 1\n",
    "s0 = [xini0]\n",
    "s1 = [xini1]\n",
    "s2 = [xini2]\n",
    "for _ in range(100):\n",
    "  s0.append(logistic_map(s0[-1], r0))\n",
    "  s1.append(logistic_map(s1[-1], r1))\n",
    "  s2.append(logistic_map(s2[-1], r2))\n",
    "fig, axs = plt.subplots(1, 3, figsize=(15,3))\n",
    "axs[0].scatter(list(range(len(s0))), s0)\n",
    "axs[0].set_title(f\"r = 0, \"+\"x0\".translate(SUB)+f\" = {xini0}\")\n",
    "\n",
    "axs[1].scatter(list(range(len(s1))), s1)\n",
    "axs[1].set_title(f\"r = 0.5, \"+\"x0\".translate(SUB)+f\" = {xini1}\")\n",
    "\n",
    "axs[2].scatter(list(range(len(s2))), s2)\n",
    "axs[2].set_title(f\"r = 1, \"+\"x0\".translate(SUB)+f\" = {xini2}\")\n",
    "plt.tight_layout()\n",
    "\n",
    "for ax in axs.flat:\n",
    "    ax.set(xlabel='Geração')\n",
    "    ax.set(ylabel='População')\n",
    "    #ax[0].xaxis.set_xlabel('Geração')\n"
   ]
  },
  {
   "cell_type": "markdown",
   "id": "f062d255",
   "metadata": {},
   "source": [
    "### No caso abaixo podemos ver que $x$ convege para dois valores, podemos ver que isso coincide com oque observamos no \"bifurcation map\" onde para o valor de $r = 3.429$ esperamos que $x$ (a população) convirja para dois valores."
   ]
  },
  {
   "cell_type": "code",
   "execution_count": null,
   "id": "a297acfc",
   "metadata": {},
   "outputs": [],
   "source": [
    "xini = 0.5\n",
    "r = 3.429\n",
    "x = [logistic_map(xini, r)]\n",
    "for _ in range(1000):\n",
    "    x.append(logistic_map(x[-1], r))\n",
    "plt.figure(figsize=(15,3))\n",
    "plt.scatter(list(range(len(x))), x)\n",
    "plt.title(\"r = 3.429\");\n",
    "plt.xlabel('Geração')\n",
    "plt.ylabel('População')\n",
    "print(f\"Últimos valores de população:\")\n",
    "print(f\"x[996] = {x[996]}\")\n",
    "print(f\"x[997] = {x[997]}\")\n",
    "print(f\"x[998] = {x[998]}\")\n",
    "print(f\"x[999] = {x[999]}\")"
   ]
  },
  {
   "cell_type": "code",
   "execution_count": null,
   "id": "35ce6162",
   "metadata": {},
   "outputs": [],
   "source": [
    "xini = 0.5\n",
    "r = 3.429\n",
    "x = [logistic_map(xini, r)]\n",
    "for _ in range(10000):\n",
    "    x.append(logistic_map(x[-1], r))\n",
    "\n",
    "plt.figure(figsize=(15,3))\n",
    "plt.scatter(list(range(len(x[9900:]))), x[9900:])\n",
    "plt.title(\"r = 3.429\");\n",
    "plt.xlabel('Geração')\n",
    "plt.ylabel('População')\n",
    "print(f\"Últimos valores de população:\")\n",
    "print(f\"x[9996] = {x[9996]}\")\n",
    "print(f\"x[9997] = {x[9997]}\")\n",
    "print(f\"x[9998] = {x[9998]}\")\n",
    "print(f\"x[9999] = {x[9999]}\")"
   ]
  },
  {
   "cell_type": "markdown",
   "id": "8057e958",
   "metadata": {},
   "source": [
    "### Novamente de acordo com o \"bifurcation map\" para um $r = 3.8$ observamos que não é claro se $x$ converge para algum conjunto de valores ou não."
   ]
  },
  {
   "cell_type": "code",
   "execution_count": null,
   "id": "2ad51474",
   "metadata": {},
   "outputs": [],
   "source": [
    "xini = 0.5\n",
    "r = 3.8\n",
    "s = [logistic_map(xini, r)]\n",
    "for _ in range(1000):\n",
    "    s.append(logistic_map(s[-1], r))\n",
    "plt.figure(figsize=(15,3))\n",
    "plt.scatter(list(range(len(s))), s)\n",
    "plt.ylabel('População')\n",
    "plt.title(\"r = 3.8\");\n",
    "plt.xlabel('Geração')\n",
    "plt.ylabel('População (x)')"
   ]
  },
  {
   "cell_type": "markdown",
   "id": "5224432a",
   "metadata": {},
   "source": [
    "# Exercícios\n",
    "\n",
    "Consulte a descrição dos exercícios nos slides da aula sobre Caos."
   ]
  },
  {
   "cell_type": "markdown",
   "id": "77384dc2",
   "metadata": {},
   "source": [
    "\n",
    "## Mapa logístico\n",
    "\n",
    "1. Gere um gráfico mostrando a evolução de um par de valores para população inicial e taxa de crescimento para 20 gerações que seja similar ao gráfico da figura a) no quadro branco.\n",
    "    1. Gere um diagrama de bifurcação para o mapa logístico\n",
    "    2. Gere um gráfico de cobweb (figura c) no quadro branco) para o mapa logístico\n",
    "    3. Dica: Consulte a página do [pynamical](https://github.com/gboeing/pynamical)\n",
    "2. Agora usando o matplotlib.pyplot.scatter gere o diagrama de bifurcação apenas para um subconjunto de gerações de $x_{min}$ até $x_{max}$ depois convergência ao ponto fixo,\teg. $x_{9000}$ até $x_{10000}$. Por exemplo, para $r = 3.429$ após 9996 iterações notamos que $x_n$ onde $n \\in [9996, ...]$, basicamente assume os valores $0.8468095286369081$ e $0.44482068425314786$, ou seja, para este $r$ o mapa de bifurcação teria 2 pontos no eixo vertical.\n",
    "\n"
   ]
  },
  {
   "cell_type": "code",
   "execution_count": null,
   "id": "2acb6d5c",
   "metadata": {},
   "outputs": [],
   "source": []
  }
 ],
 "metadata": {
  "kernelspec": {
   "display_name": "Python 3 (ipykernel)",
   "language": "python",
   "name": "python3"
  },
  "language_info": {
   "codemirror_mode": {
    "name": "ipython",
    "version": 3
   },
   "file_extension": ".py",
   "mimetype": "text/x-python",
   "name": "python",
   "nbconvert_exporter": "python",
   "pygments_lexer": "ipython3",
   "version": "3.10.4"
  },
  "toc": {
   "base_numbering": 1,
   "nav_menu": {},
   "number_sections": true,
   "sideBar": true,
   "skip_h1_title": false,
   "title_cell": "Table of Contents",
   "title_sidebar": "Contents",
   "toc_cell": false,
   "toc_position": {},
   "toc_section_display": true,
   "toc_window_display": true
  }
 },
 "nbformat": 4,
 "nbformat_minor": 5
}
