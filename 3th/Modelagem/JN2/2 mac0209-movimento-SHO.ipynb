{
  "nbformat": 4,
  "nbformat_minor": 0,
  "metadata": {
    "colab": {
      "name": "simpleLogisticMap.ipynb",
      "provenance": []
    },
    "kernelspec": {
      "name": "python3",
      "display_name": "Python 3"
    },
    "language_info": {
      "name": "python"
    }
  },
  "cells": [
    {
      "cell_type": "code",
      "execution_count": null,
      "metadata": {
        "id": "zUmBonvXn3XL"
      },
      "outputs": [],
      "source": [
        "import math\n",
        "import matplotlib.pyplot as pyplot\n",
        "\n",
        "xn = 0.1\n",
        "geracoes = 50\n",
        "sd = [xn]\n",
        "r = 0.95   # tentar 0.1, 0.7, 0.95\n",
        "\n",
        "for i in range(geracoes):\n",
        "  xn = 4 * r * xn * (1 - xn)\n",
        "  sd.append(xn)\n",
        "\n",
        "\n",
        "pyplot.figure(0)\n",
        "pyplot.plot(sd) \n",
        "pyplot.title('xn')\n",
        "pyplot.show(block=False)\n",
        "\n"
      ]
    }
  ]
}