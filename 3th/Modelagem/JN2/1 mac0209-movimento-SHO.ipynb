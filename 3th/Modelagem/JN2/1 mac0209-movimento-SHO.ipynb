{
 "cells": [
  {
   "cell_type": "markdown",
   "metadata": {},
   "source": [
    "   # Simple Harmonic Oscilator - SHO"
   ]
  },
  {
   "cell_type": "markdown",
   "metadata": {},
   "source": [
    "$\\frac{d^{2}x}{dt^{2}} = - \\omega^2 x$\n",
    "\n",
    "$\\omega = \\sqrt{\\frac{k}{m}}$\n",
    "\n",
    "ou\n",
    "\n",
    "$\\frac{dv}{dt} = a(t) = - \\omega^2 x(t)$\n",
    "\n",
    "$\\frac{dx}{dt} = v(t)$\n",
    "\n",
    "e a formulação de Euler:\n",
    "\n",
    "$$x(t+\\Delta t) = x(t) + \\Delta t \\; v(t)$$\n",
    "\n",
    "$$v(t+\\Delta t) = v(t) - \\Delta t \\; \\omega^2 x$$\n",
    "\n",
    "Podemos definir o vetor de estados e o vetor de taxas de variação:\n",
    "\n",
    "$$ \\vec{S} = [\\vec{S}[0], \\vec{S}[1], \\vec{S}[2]] = [x, v, t] $$\n",
    "\n",
    "$$ \\vec{R} = [\\vec{S}[1], - \\omega^2 \\vec{S}[0], 1] $$\n",
    "\n"
   ]
  },
  {
   "cell_type": "markdown",
   "metadata": {},
   "source": [
    "# Exemplo"
   ]
  },
  {
   "cell_type": "markdown",
   "metadata": {},
   "source": []
  },
  {
   "cell_type": "markdown",
   "metadata": {},
   "source": [
    "### Exercício: Implemente a solução analítica do SHO¶"
   ]
  },
  {
   "cell_type": "code",
   "execution_count": 1,
   "metadata": {},
   "outputs": [],
   "source": [
    "# Escreva sua solucao aqui."
   ]
  },
  {
   "cell_type": "markdown",
   "metadata": {},
   "source": [
    "### Exercício: Implemente a solução por Euler do SHO (resolva na célula abaixo antes de olhar a solução)"
   ]
  },
  {
   "cell_type": "code",
   "execution_count": 1,
   "metadata": {},
   "outputs": [],
   "source": [
    "# Escreva sua solucao aqui."
   ]
  },
  {
   "cell_type": "markdown",
   "metadata": {},
   "source": [
    "### Resolução: Compare sua solução"
   ]
  },
  {
   "cell_type": "code",
   "execution_count": 2,
   "metadata": {},
   "outputs": [
    {
     "data": {
      "image/png": "[encoded data removed]",
      "text/plain": [
       "<Figure size 432x288 with 1 Axes>"
      ]
     },
     "metadata": {
      "needs_background": "light"
     },
     "output_type": "display_data"
    },
    {
     "data": {
      "image/png": "[encoded data removed]",
      "text/plain": [
       "<Figure size 432x288 with 1 Axes>"
      ]
     },
     "metadata": {
      "needs_background": "light"
     },
     "output_type": "display_data"
    }
   ],
   "source": [
    "# d2x / dt2 = - omega^2 x\n",
    "\n",
    "import math\n",
    "import numpy as np\n",
    "import matplotlib.pyplot as pyplot\n",
    "\n",
    "def initState(x,v,t):\n",
    "    S = np.array([x,v,t])\n",
    "    return(S)\n",
    "\n",
    "def nextState(S,dt):\n",
    "    Sn = S + dt * rate(S,dt)\n",
    "    return(Sn)\n",
    "\n",
    "def rate(S,dt):\n",
    "    omega = 0.05\n",
    "    R = np.array([S[1], -omega*omega*S[0], 1])\n",
    "    return(R)\n",
    "    \n",
    "\n",
    "def main():\n",
    "    t=0\n",
    "    tf = 100\n",
    "    dt=0.1\n",
    "    x=2\n",
    "    v=0\n",
    "    S = initState(x,v,dt)\n",
    "    vve=[]\n",
    "    vxe=[]\n",
    "    while (S[2]<tf):\n",
    "        vve.append(S[1])\n",
    "        vxe.append(S[0])\n",
    "        S = nextState(S,dt)\n",
    "    \n",
    "\n",
    "    pyplot.figure(0)\n",
    "    pyplot.plot(vxe,label='Euler',linestyle='',marker='o') \n",
    "    pyplot.title('Position')\n",
    "    pyplot.show(block=False)\n",
    "\n",
    "    pyplot.figure(1)\n",
    "    pyplot.plot(vve,label='Euler',linestyle='',marker='o')\n",
    "    pyplot.title('Velocity')\n",
    "    pyplot.show()\n",
    "\n",
    "\n",
    "main() "
   ]
  },
  {
   "cell_type": "markdown",
   "metadata": {},
   "source": [
    "### Usando as funções de animação do Python, tente animar a posição e a velocidade do SHO. "
   ]
  },
  {
   "cell_type": "code",
   "execution_count": null,
   "metadata": {
    "collapsed": true
   },
   "outputs": [],
   "source": [
    "### Implemente sua resposta aqui."
   ]
  }
 ],
 "metadata": {
  "anaconda-cloud": {},
  "kernelspec": {
   "display_name": "Python 3",
   "language": "python",
   "name": "python3"
  },
  "language_info": {
   "codemirror_mode": {
    "name": "ipython",
    "version": 3
   },
   "file_extension": ".py",
   "mimetype": "text/x-python",
   "name": "python",
   "nbconvert_exporter": "python",
   "pygments_lexer": "ipython3",
   "version": "3.8.8"
  }
 },
 "nbformat": 4,
 "nbformat_minor": 1
}
