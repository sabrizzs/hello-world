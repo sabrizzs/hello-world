{
 "cells": [
  {
   "cell_type": "markdown",
   "id": "cd24f0b2",
   "metadata": {},
   "source": [
    "# MAC0209 - Modelagem e Simulação\n",
    "\n",
    "Pynamical: Demo of logistic map and bifurcation diagrams\n",
    "\n",
    "Author: Geoff Boeing\n",
    "\n",
    "Adapted and modified by: R. Hirata Jr., Artur André, Roberto. M. Cesar Jr to be used in MAC0209\n",
    "\n",
    "Leia o artigo completo aqui:\n",
    "http://geoffboeing.com/2015/03/chaos-theory-logistic-map/"
   ]
  },
  {
   "cell_type": "markdown",
   "id": "c8416889",
   "metadata": {},
   "source": [
    "## MAC0209 - Modelagem e Simulação"
   ]
  },
  {
   "cell_type": "code",
   "execution_count": null,
   "id": "9a995a45",
   "metadata": {},
   "outputs": [],
   "source": [
    "!python -m pip install pynamical==0.3.1\n",
    "!python -m pip install imageio"
   ]
  },
  {
   "cell_type": "code",
   "execution_count": null,
   "id": "a63cb2ab",
   "metadata": {},
   "outputs": [],
   "source": [
    "from pynamical import logistic_map, simulate, bifurcation_plot\n",
    "import pynamical\n",
    "import numpy as np\n",
    "\n",
    "import matplotlib.pyplot as plt\n",
    "import matplotlib\n",
    "plt.rcParams.update({'font.size': 22})\n",
    "\n",
    "print(f\"pynamical version: {pynamical.__version__}\")\n",
    "print(f\"matplotlib version: {matplotlib.__version__}\")\n",
    "print(f\"numpy version: {np.__version__}\")\n"
   ]
  },
  {
   "cell_type": "markdown",
   "id": "06aad775",
   "metadata": {},
   "source": [
    "# Apenas para recapitular, aqui temos o diagrama de bifurcação, para o mapa logístico, gerado pelo pacote pynamical."
   ]
  },
  {
   "cell_type": "code",
   "execution_count": null,
   "id": "6f66570b",
   "metadata": {},
   "outputs": [],
   "source": [
    "pops = simulate(model=logistic_map, num_gens=100, rate_min=0, rate_max=4, num_rates=1000, num_discard=100)\n",
    "bifurcation_plot(pops)"
   ]
  },
  {
   "cell_type": "code",
   "execution_count": null,
   "id": "7b5a59fa",
   "metadata": {},
   "outputs": [],
   "source": [
    "xini = 0.3\n",
    "r = 3.429\n",
    "x = [xini]\n",
    "for _ in range(100):\n",
    "    x.append(logistic_map(x[-1], r))\n",
    "\n",
    "plt.figure(figsize=(15,3))\n",
    "plt.plot(list(range(0,len(x))), x[0:])\n",
    "plt.title(\"r = 3.429\");\n",
    "plt.xlabel('Geração')\n",
    "plt.ylabel('População')\n",
    "print(f\"Últimos valores de população:\")"
   ]
  },
  {
   "cell_type": "markdown",
   "id": "e63d3e21",
   "metadata": {},
   "source": [
    "# Ao usarmos uma taxa de crescimento $r = 3.429$ observamos um comportamento periódico (com 2 valores) da população $x$ ao longo das iterações do mapa logístico após uma certa iteração."
   ]
  },
  {
   "cell_type": "code",
   "execution_count": null,
   "id": "6f3f282c",
   "metadata": {},
   "outputs": [],
   "source": [
    "xini = 0.5\n",
    "r = 3.429\n",
    "x = [logistic_map(xini, r)]\n",
    "for _ in range(10000):\n",
    "    x.append(logistic_map(x[-1], r))\n",
    "\n",
    "plt.figure(figsize=(15,3))\n",
    "plt.scatter(list(range(9900,len(x))), x[9900:])\n",
    "plt.title(\"r = 3.429\");\n",
    "plt.xlabel('Geração')\n",
    "plt.ylabel('População')\n",
    "print(f\"Últimos valores de população:\")\n",
    "print(f\"x[9996] = {x[9996]}\")\n",
    "print(f\"x[9997] = {x[9997]}\")\n",
    "print(f\"x[9998] = {x[9998]}\")\n",
    "print(f\"x[9999] = {x[9999]}\")"
   ]
  },
  {
   "cell_type": "markdown",
   "id": "5224432a",
   "metadata": {},
   "source": [
    "# Exercícios\n",
    "\n",
    "Consulte a descrição dos exercícios nos slides da aula sobre Caos."
   ]
  },
  {
   "cell_type": "markdown",
   "id": "97dee97e",
   "metadata": {},
   "source": [
    "## Sistema de EDOs acopladas\n",
    "\n",
    "Para solucionar as equações de Lorenz (nos exercícios) podemos usar o método de Euler também. No caso precisaremos resolver um sistema de equações da forma:\n",
    "\n",
    "\n",
    "\n",
    "$\\frac{dx}{dt} = xy - x$\n",
    "$\\frac{dy}{dt} = y - xy + sin^2(\\omega t)$\n",
    "\n",
    "- As equações acima foram baseadas nesta [apresentação](https://www.if.ufrj.br/~sandra/MetComp/2020-1e/Aula11/Aula11.pdf) da Profa. Dra. Sandra Amato.\n",
    "\n",
    "Abaixo temos uma possivel implementação do método de Euler para resolver esse sistema de EDOs acopladas:"
   ]
  },
  {
   "cell_type": "code",
   "execution_count": null,
   "id": "9a9b5a2c",
   "metadata": {},
   "outputs": [],
   "source": [
    "# funcoes genericas que podem ser re-usadas em outros problemas\n",
    "\n",
    "import math\n",
    "import matplotlib.pyplot as pyplot\n",
    "import numpy as np\n",
    "import matplotlib as mpl\n",
    "from mpl_toolkits.mplot3d import Axes3D\n",
    "\n",
    "\n",
    "# funcoes base para implementar o Euler. \n",
    "# Deve-se implementar a funcao rates, que depende de cada modelo.\n",
    "\n",
    "def initStateVector(s):\n",
    "    return np.array(s)\n",
    "\n",
    "def updateStateVectorEuler(s,dt):\n",
    "    return s + rates(s,dt)\n",
    "\n",
    "# State Vector Trajectories store state space evolution. Uses list to init empty.\n",
    "\n",
    "def initSVTrajectory():\n",
    "    return []\n",
    "\n",
    "# append s a svt\n",
    "def updateSVTrajectory(svt,s):\n",
    "    svt.append(s)\n",
    "    return svt\n",
    "\n",
    "def extractSVTrajectory(svt,i): # returns the trajectory as numpy array\n",
    "    foo = np.array(svt)\n",
    "    return foo[:,i]\n",
    "  \n",
    "def plotEuler(vxe, vtime):\n",
    "    fig, ax = pyplot.subplots()\n",
    "    pyplot.plot(vtime, vxe, label='Euler',linestyle='',marker='o') \n",
    "    pyplot.title('Posição')\n",
    "    ax.set_xlabel('Tempo (segundos)')\n",
    "    ax.set_ylabel('Posição (metros)')\n",
    "    pyplot.show(block=False)\n",
    "    \n",
    "def erroTrajetorias(v1,v2,tipoErro):\n",
    "    if (tipoErro == 0): # erro com sinal\n",
    "        return(np.array(v1) - np.array(v2))\n",
    "    elif (tipoErro == 1): # erro quadratico\n",
    "        return((np.array(v1) - np.array(v2))**2)\n",
    "    elif (tipoErro == 2): # erro em modulo\n",
    "        return(fabs((np.array(v1) - np.array(v2))))\n",
    "    \n",
    "\n",
    "def easyPlot(v,title):\n",
    "    pyplot.figure()\n",
    "    pyplot.plot(v)\n",
    "    pyplot.title(title)\n",
    "    pyplot.show()\n",
    "\n",
    "def easyPlot2D(x,y,title):\n",
    "    pyplot.figure()\n",
    "    pyplot.plot(x,y,'*')\n",
    "    pyplot.title(title)\n",
    "    pyplot.show()\n",
    "    \n",
    "def easyPlot3D(x,y,z,title,xl,yl,zl):\n",
    "    mpl.rcParams['legend.fontsize'] = 10\n",
    "    fig = pyplot.figure()\n",
    "    ax = fig.gca(projection='3d')\n",
    "    ax.plot(x, y, z, label=title)\n",
    "    ax.set_xlabel(xl)\n",
    "    ax.set_ylabel(yl)\n",
    "    ax.set_zlabel(zl)\n",
    "    ax.legend()\n",
    "    pyplot.show()\n"
   ]
  },
  {
   "cell_type": "code",
   "execution_count": null,
   "id": "db4ea459",
   "metadata": {},
   "outputs": [],
   "source": [
    "# Euler:\n",
    "def rates(s,dt):\n",
    "    omega = 0.115\n",
    "    x1 = dt*(s[0]*s[1]-s[0]) # +x0\n",
    "    y1 = dt*(s[1]-s[0]*s[1] + np.sin(omega*s[2])**2) # +y0\n",
    "    r0 = x1 \n",
    "    r1 = y1 \n",
    "    r2 = dt \n",
    "    return np.array([r0,r1,r2])\n",
    "\n",
    "def main():\n",
    "    t=0\n",
    "    tf = 10\n",
    "    dt = 0.1\n",
    "    x0 = 1.2\n",
    "    y0 = 3.1\n",
    "    \n",
    "    # state vector: [position x, position y, time t]\n",
    "    stateVectorEuler = initStateVector([x0,y0,t])\n",
    "    \n",
    "    \n",
    "    svtEuler = initSVTrajectory() \n",
    "    \n",
    "    while (stateVectorEuler[2] < tf):    \n",
    "        svtvEuler        = updateSVTrajectory(svtEuler,list(stateVectorEuler))\n",
    "        stateVectorEuler = updateStateVectorEuler(stateVectorEuler,dt)\n",
    "        #print(stateVectorEuler)\n",
    "        #break\n",
    "\n",
    "    vx = extractSVTrajectory(svtEuler,0)\n",
    "    vy = extractSVTrajectory(svtEuler,1)\n",
    "\n",
    "    vtime = extractSVTrajectory(svtEuler,2)\n",
    "\n",
    "    easyPlot2D(vtime, vx, 't, x')\n",
    "    easyPlot2D(vtime, vy, 't, y')\n",
    "    easyPlot2D(vx, vy, 'x, y')\n",
    "\n",
    " \n",
    "\n",
    "main() "
   ]
  },
  {
   "cell_type": "markdown",
   "id": "77384dc2",
   "metadata": {},
   "source": [
    "\n",
    "## Mapa logístico / Diagrama de bifurcação / Cobweb\n",
    "\n",
    "1. Gere um gráfico de cobweb (figura c) no quadro branco) para o mapa logístico. Dica: Consulte a página do [pynamical](https://github.com/gboeing/pynamical)\n",
    "2. Agora usando o `matplotlib.pyplot.scatter` gere o diagrama de bifurcação apenas para um subconjunto de gerações de $x_{min}$ até $x_{max}$ depois convergência ao ponto fixo,\teg. $x_{9000}$ até $x_{10000}$. Por exemplo, para $r = 3.429$ após 9996 iterações notamos que $x_n$ onde $n \\in [9996, ...]$, basicamente assume os valores $0.8468095286369081$ e $0.44482068425314786$, ou seja, para este $r$ o mapa de bifurcação teria 2 pontos no eixo vertical.\n",
    "\n"
   ]
  },
  {
   "cell_type": "code",
   "execution_count": null,
   "id": "ddafe38d",
   "metadata": {},
   "outputs": [],
   "source": []
  },
  {
   "cell_type": "markdown",
   "id": "98129e5a",
   "metadata": {},
   "source": [
    "## Equações de Lorenz\n",
    "\n",
    "1. Usando o método de Euler resolva numéricamente as equações de Lorenz:\n",
    "    - $\\frac{dx}{dt} = \\sigma(y-x)$\n",
    "    - $\\frac{dy}{dt} = x(\\rho - z) - z$\n",
    "    - $\\frac{dz}{dt} = xy - \\beta z$\n",
    "    \n",
    "2. Gere os 4 tipos de gráficos (ilustrados no quadro branco à direita a) b) c) e d)):\n",
    "    - a) $x(t), y(t), z(t)$\n",
    "    - b) $x \\times y$, $x \\times z$, $y \\times z$\n",
    "    - c) $x \\times y \\times z$\n",
    "    - d) $x$, $x \\times t$, $x$, $z \\times t$, $y$, $z \\times t$"
   ]
  },
  {
   "cell_type": "markdown",
   "id": "90ae96ab",
   "metadata": {},
   "source": [
    "### Como gabarito, vamos escolher alguns valores para as constantes $\\sigma = 10, \\rho = 28$ e $\\beta = 8/3$.\n",
    "### como condições de contorno: $x_0 = 0, y_0 = 1$ e $z_0 = 0$\n",
    "### e vamos iterar do tempo $t = 0$ até $t = 50$ com um passo $dt = 0.01$.\n",
    "\n",
    "### Para esta situação obtemos os gráficos abaixo para $x \\times t$ e para $z \\times x$:"
   ]
  },
  {
   "cell_type": "markdown",
   "id": "5429bcfa",
   "metadata": {},
   "source": [
    "## Mapa de Lorenz, dois tipos de gráficos:\n",
    "\n",
    "    - a) x(n), y(n), x X y\n",
    "    - b) Mapa de bifurcações como o mapa logístico"
   ]
  },
  {
   "cell_type": "code",
   "execution_count": null,
   "id": "48d100e5",
   "metadata": {},
   "outputs": [],
   "source": []
  }
 ],
 "metadata": {
  "kernelspec": {
   "display_name": "Python 3 (ipykernel)",
   "language": "python",
   "name": "python3"
  },
  "language_info": {
   "codemirror_mode": {
    "name": "ipython",
    "version": 3
   },
   "file_extension": ".py",
   "mimetype": "text/x-python",
   "name": "python",
   "nbconvert_exporter": "python",
   "pygments_lexer": "ipython3",
   "version": "3.10.4"
  },
  "toc": {
   "base_numbering": 1,
   "nav_menu": {},
   "number_sections": true,
   "sideBar": true,
   "skip_h1_title": false,
   "title_cell": "Table of Contents",
   "title_sidebar": "Contents",
   "toc_cell": false,
   "toc_position": {},
   "toc_section_display": true,
   "toc_window_display": false
  }
 },
 "nbformat": 4,
 "nbformat_minor": 5
}
