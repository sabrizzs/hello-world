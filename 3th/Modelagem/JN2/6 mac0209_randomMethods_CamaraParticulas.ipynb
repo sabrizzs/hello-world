{
  "nbformat": 4,
  "nbformat_minor": 0,
  "metadata": {
    "anaconda-cloud": {},
    "colab": {
      "name": "mac0209-randomMethods-CamaraParticulas.ipynb",
      "provenance": [],
      "collapsed_sections": []
    },
    "kernelspec": {
      "display_name": "Python [default]",
      "language": "python",
      "name": "python3"
    },
    "language_info": {
      "codemirror_mode": {
        "name": "ipython",
        "version": 3
      },
      "file_extension": ".py",
      "mimetype": "text/x-python",
      "name": "python",
      "nbconvert_exporter": "python",
      "pygments_lexer": "ipython3",
      "version": "3.5.2"
    },
    "toc": {
      "base_numbering": 1,
      "nav_menu": {},
      "number_sections": true,
      "sideBar": true,
      "skip_h1_title": false,
      "title_cell": "Table of Contents",
      "title_sidebar": "Contents",
      "toc_cell": false,
      "toc_position": {},
      "toc_section_display": true,
      "toc_window_display": true
    }
  },
  "cells": [
    {
      "cell_type": "markdown",
      "metadata": {
        "id": "JAcSMzHxSxR5"
      },
      "source": [
        "<font size=\"5\"> <a href=\"https://uspdigital.usp.br/jupiterweb/obterDisciplina?sgldis=MAC0209\"> MAC0209 - Modelagem e Simulação</a> </font>\n",
        "\n",
        "Roberto M. Cesar Jr. (IME-USP)\n",
        "\n",
        "Roberto Hirata Jr. (IME-USP)\n",
        "***\n",
        "<font size=\"5\"> Random Methods e exercícios com a câmara de partículas</font>\n",
        "***"
      ]
    },
    {
      "cell_type": "markdown",
      "source": [
        "## Exercício com a câmara de particulas da Figura 7.1 dos slides\n",
        "\n",
        "Retome o experimento da câmara da Figura 7.1 explicada em aula. Você deve implementar a simulação da evolução do sistema usando algumas variações definidas abaixo. Em todos os exercícios, você deve assumir que existem $n$ partículas que são sorteadas usando as distribuições definidas abaixo. O sistema dinâmico é composto pelo conjunto de $M$ partículas. O estado de cada partícula é a câmara que ela se encontra. Por exemplo, no caso da figura, 0 para  a câmara da esquerda e 1 para a câmara da direita. Assim, o vetor de estados do sistema pode ser representado por um vetor binário de tamanho $M$.  \n",
        "\n",
        "As simulações devem produzir as seguintes visualizações gráficas:\n",
        "\n",
        "* Acumule o estado das partículas ao longo da simulação em uma matriz $E$ de tamanho $M \\times N$, em que $M$ é o número de partículas e $N$ é o número de iterações da simulação. Cada coluna representa o estado do sistema dinâmico na i-ésima iteração. Visualize a matriz $E$ como uma imagem.\n",
        "\n",
        "* Plote os gráficos $n_0(i)$ e $n_1(i)$ partículas em cada câmara 0 e 1 de $i$ iterações da simulação.\n"
      ],
      "metadata": {
        "id": "aYwZfxaCYOwZ"
      }
    },
    {
      "cell_type": "markdown",
      "source": [
        "### Distribuição uniforme\n",
        "\n",
        "Assuma que as partículas são sorteadas usando uma distribuição uniforme sobre  todas."
      ],
      "metadata": {
        "id": "poXefMyNYtXN"
      }
    },
    {
      "cell_type": "code",
      "source": [
        ""
      ],
      "metadata": {
        "id": "qUFqL4KyYpbr"
      },
      "execution_count": null,
      "outputs": []
    },
    {
      "cell_type": "markdown",
      "source": [
        "### Distribuição normal\n",
        "\n",
        "Assuma que as partículas são sorteadas usando uma distribuição normal com média $M / 2$ e desvio padrão arbitrário $\\sigma$ sobre  todas. Faça testes com $\\sigma$ pequeno, médio e grande."
      ],
      "metadata": {
        "id": "G-FGC45_caQI"
      }
    },
    {
      "cell_type": "code",
      "source": [
        ""
      ],
      "metadata": {
        "id": "Is40hoWmfQqe"
      },
      "execution_count": null,
      "outputs": []
    },
    {
      "cell_type": "markdown",
      "source": [
        "### Distribuição normal com controle na porta\n",
        "\n",
        "Assuma que as partículas são sorteadas usando uma distribuição normal com média $M / 2$ e desvio padrão arbitrário $\\sigma$ sobre  todas. Além disso, a partícula só muda de câmara se seu índice (posição no vetor de estados) $j$ verificar $j < M/k $, em que $0< k < M$ é uma constante arbitrária. Faça testes com $\\sigma$ pequeno, médio e grande e $k = 2, 3, 4$."
      ],
      "metadata": {
        "id": "qFJqO-t_d9Gb"
      }
    },
    {
      "cell_type": "code",
      "source": [
        ""
      ],
      "metadata": {
        "id": "H9lfZY9KcaQX"
      },
      "execution_count": null,
      "outputs": []
    }
  ]
}